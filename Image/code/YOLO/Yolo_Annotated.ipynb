{
 "cells": [
  {
   "cell_type": "code",
   "execution_count": 1,
   "metadata": {},
   "outputs": [],
   "source": [
    "import torch\n",
    "from IPython.display import Image  # for displaying images\n",
    "import os \n",
    "import random\n",
    "import shutil\n",
    "from sklearn.model_selection import train_test_split\n",
    "import xml.etree.ElementTree as ET\n",
    "from xml.dom import minidom\n",
    "from tqdm import tqdm\n",
    "from PIL import Image, ImageDraw\n",
    "import numpy as np\n",
    "import matplotlib.pyplot as plt\n",
    "\n",
    "random.seed(108)"
   ]
  },
  {
   "cell_type": "code",
   "execution_count": null,
   "metadata": {},
   "outputs": [],
   "source": [
    "# Clone the YOLOv7 repository\n",
    "# !git clone https://github.com/WongKinYiu/yolov7.git\n"
   ]
  },
  {
   "cell_type": "code",
   "execution_count": null,
   "metadata": {},
   "outputs": [],
   "source": []
  },
  {
   "cell_type": "code",
   "execution_count": 2,
   "metadata": {},
   "outputs": [],
   "source": [
    "os.chdir(\"C:/Users/Anuj Bohra/Desktop/IIT_Patna/code/yolov7\")"
   ]
  },
  {
   "cell_type": "code",
   "execution_count": 3,
   "metadata": {},
   "outputs": [
    {
     "name": "stdout",
     "output_type": "stream",
     "text": [
      "Collecting roboflowNote: you may need to restart the kernel to use updated packages.\n"
     ]
    },
    {
     "name": "stderr",
     "output_type": "stream",
     "text": [
      "  WARNING: Failed to remove contents in a temporary directory 'C:\\Users\\Anuj Bohra\\AppData\\Local\\Temp\\pip-uninstall-p0y1y8cv'.\n",
      "  You can safely remove it manually.\n"
     ]
    },
    {
     "name": "stdout",
     "output_type": "stream",
     "text": [
      "\n",
      "  Downloading roboflow-1.1.36-py3-none-any.whl.metadata (9.4 kB)\n",
      "Requirement already satisfied: certifi in c:\\users\\anuj bohra\\anaconda3\\envs\\cv_env\\lib\\site-packages (from roboflow) (2024.7.4)\n",
      "Collecting chardet==4.0.0 (from roboflow)\n",
      "  Downloading chardet-4.0.0-py2.py3-none-any.whl.metadata (3.5 kB)\n",
      "Requirement already satisfied: idna==3.7 in c:\\users\\anuj bohra\\anaconda3\\envs\\cv_env\\lib\\site-packages (from roboflow) (3.7)\n",
      "Requirement already satisfied: cycler in c:\\users\\anuj bohra\\anaconda3\\envs\\cv_env\\lib\\site-packages (from roboflow) (0.12.1)\n",
      "Requirement already satisfied: kiwisolver>=1.3.1 in c:\\users\\anuj bohra\\anaconda3\\envs\\cv_env\\lib\\site-packages (from roboflow) (1.4.5)\n",
      "Requirement already satisfied: matplotlib in c:\\users\\anuj bohra\\anaconda3\\envs\\cv_env\\lib\\site-packages (from roboflow) (3.9.0)\n",
      "Requirement already satisfied: numpy>=1.18.5 in c:\\users\\anuj bohra\\anaconda3\\envs\\cv_env\\lib\\site-packages (from roboflow) (1.23.5)\n",
      "Collecting opencv-python-headless==4.10.0.84 (from roboflow)\n",
      "  Downloading opencv_python_headless-4.10.0.84-cp37-abi3-win_amd64.whl.metadata (20 kB)\n",
      "Requirement already satisfied: Pillow>=7.1.2 in c:\\users\\anuj bohra\\anaconda3\\envs\\cv_env\\lib\\site-packages (from roboflow) (10.3.0)\n",
      "Requirement already satisfied: python-dateutil in c:\\users\\anuj bohra\\anaconda3\\envs\\cv_env\\lib\\site-packages (from roboflow) (2.9.0)\n",
      "Collecting python-dotenv (from roboflow)\n",
      "  Using cached python_dotenv-1.0.1-py3-none-any.whl.metadata (23 kB)\n",
      "Requirement already satisfied: requests in c:\\users\\anuj bohra\\anaconda3\\envs\\cv_env\\lib\\site-packages (from roboflow) (2.32.3)\n",
      "Requirement already satisfied: six in c:\\users\\anuj bohra\\anaconda3\\envs\\cv_env\\lib\\site-packages (from roboflow) (1.16.0)\n",
      "Requirement already satisfied: urllib3>=1.26.6 in c:\\users\\anuj bohra\\anaconda3\\envs\\cv_env\\lib\\site-packages (from roboflow) (2.2.2)\n",
      "Requirement already satisfied: tqdm>=4.41.0 in c:\\users\\anuj bohra\\anaconda3\\envs\\cv_env\\lib\\site-packages (from roboflow) (4.66.4)\n",
      "Requirement already satisfied: PyYAML>=5.3.1 in c:\\users\\anuj bohra\\anaconda3\\envs\\cv_env\\lib\\site-packages (from roboflow) (6.0.1)\n",
      "Collecting requests-toolbelt (from roboflow)\n",
      "  Using cached requests_toolbelt-1.0.0-py2.py3-none-any.whl.metadata (14 kB)\n",
      "Collecting filetype (from roboflow)\n",
      "  Downloading filetype-1.2.0-py2.py3-none-any.whl.metadata (6.5 kB)\n",
      "Requirement already satisfied: colorama in c:\\users\\anuj bohra\\anaconda3\\envs\\cv_env\\lib\\site-packages (from tqdm>=4.41.0->roboflow) (0.4.6)\n",
      "Requirement already satisfied: contourpy>=1.0.1 in c:\\users\\anuj bohra\\anaconda3\\envs\\cv_env\\lib\\site-packages (from matplotlib->roboflow) (1.2.1)\n",
      "Requirement already satisfied: fonttools>=4.22.0 in c:\\users\\anuj bohra\\anaconda3\\envs\\cv_env\\lib\\site-packages (from matplotlib->roboflow) (4.53.0)\n",
      "Requirement already satisfied: packaging>=20.0 in c:\\users\\anuj bohra\\anaconda3\\envs\\cv_env\\lib\\site-packages (from matplotlib->roboflow) (24.0)\n",
      "Requirement already satisfied: pyparsing>=2.3.1 in c:\\users\\anuj bohra\\anaconda3\\envs\\cv_env\\lib\\site-packages (from matplotlib->roboflow) (3.1.2)\n",
      "Requirement already satisfied: charset-normalizer<4,>=2 in c:\\users\\anuj bohra\\anaconda3\\envs\\cv_env\\lib\\site-packages (from requests->roboflow) (3.3.2)\n",
      "Downloading roboflow-1.1.36-py3-none-any.whl (76 kB)\n",
      "   ---------------------------------------- 0.0/76.7 kB ? eta -:--:--\n",
      "   ---------- ----------------------------- 20.5/76.7 kB ? eta -:--:--\n",
      "   ---------------------------------------- 76.7/76.7 kB 2.1 MB/s eta 0:00:00\n",
      "Downloading chardet-4.0.0-py2.py3-none-any.whl (178 kB)\n",
      "   ---------------------------------------- 0.0/178.7 kB ? eta -:--:--\n",
      "   ---------------------------------------- 178.7/178.7 kB 5.4 MB/s eta 0:00:00\n",
      "Downloading opencv_python_headless-4.10.0.84-cp37-abi3-win_amd64.whl (38.8 MB)\n",
      "   ---------------------------------------- 0.0/38.8 MB ? eta -:--:--\n",
      "    --------------------------------------- 1.0/38.8 MB 20.3 MB/s eta 0:00:02\n",
      "   - -------------------------------------- 1.8/38.8 MB 22.7 MB/s eta 0:00:02\n",
      "   -- ------------------------------------- 2.5/38.8 MB 20.1 MB/s eta 0:00:02\n",
      "   --- ------------------------------------ 3.6/38.8 MB 19.1 MB/s eta 0:00:02\n",
      "   ---- ----------------------------------- 4.6/38.8 MB 19.8 MB/s eta 0:00:02\n",
      "   ------ --------------------------------- 6.0/38.8 MB 21.4 MB/s eta 0:00:02\n",
      "   ------- -------------------------------- 7.1/38.8 MB 21.7 MB/s eta 0:00:02\n",
      "   -------- ------------------------------- 8.4/38.8 MB 22.3 MB/s eta 0:00:02\n",
      "   --------- ------------------------------ 9.4/38.8 MB 22.3 MB/s eta 0:00:02\n",
      "   ----------- ---------------------------- 10.9/38.8 MB 21.8 MB/s eta 0:00:02\n",
      "   ------------ --------------------------- 12.5/38.8 MB 22.6 MB/s eta 0:00:02\n",
      "   ------------- -------------------------- 13.5/38.8 MB 22.6 MB/s eta 0:00:02\n",
      "   --------------- ------------------------ 15.0/38.8 MB 24.2 MB/s eta 0:00:01\n",
      "   ---------------- ----------------------- 16.1/38.8 MB 23.4 MB/s eta 0:00:01\n",
      "   ----------------- ---------------------- 17.3/38.8 MB 23.4 MB/s eta 0:00:01\n",
      "   ------------------- -------------------- 18.4/38.8 MB 23.4 MB/s eta 0:00:01\n",
      "   -------------------- ------------------- 19.6/38.8 MB 23.4 MB/s eta 0:00:01\n",
      "   --------------------- ------------------ 20.6/38.8 MB 24.2 MB/s eta 0:00:01\n",
      "   ---------------------- ----------------- 21.7/38.8 MB 24.2 MB/s eta 0:00:01\n",
      "   ----------------------- ---------------- 22.8/38.8 MB 24.2 MB/s eta 0:00:01\n",
      "   ------------------------ --------------- 23.9/38.8 MB 25.2 MB/s eta 0:00:01\n",
      "   ------------------------- -------------- 25.0/38.8 MB 24.2 MB/s eta 0:00:01\n",
      "   -------------------------- ------------- 26.0/38.8 MB 24.2 MB/s eta 0:00:01\n",
      "   --------------------------- ------------ 27.1/38.8 MB 24.2 MB/s eta 0:00:01\n",
      "   ----------------------------- ---------- 28.2/38.8 MB 24.2 MB/s eta 0:00:01\n",
      "   ------------------------------ --------- 29.2/38.8 MB 23.4 MB/s eta 0:00:01\n",
      "   ------------------------------- -------- 30.4/38.8 MB 24.2 MB/s eta 0:00:01\n",
      "   -------------------------------- ------- 31.5/38.8 MB 24.2 MB/s eta 0:00:01\n",
      "   --------------------------------- ------ 32.4/38.8 MB 23.4 MB/s eta 0:00:01\n",
      "   ---------------------------------- ----- 33.3/38.8 MB 22.6 MB/s eta 0:00:01\n",
      "   ----------------------------------- ---- 34.4/38.8 MB 22.6 MB/s eta 0:00:01\n",
      "   ------------------------------------ --- 35.2/38.8 MB 22.6 MB/s eta 0:00:01\n",
      "   ------------------------------------- -- 36.5/38.8 MB 22.5 MB/s eta 0:00:01\n",
      "   -------------------------------------- - 37.7/38.8 MB 22.6 MB/s eta 0:00:01\n",
      "   ---------------------------------------  38.5/38.8 MB 22.6 MB/s eta 0:00:01\n",
      "   ---------------------------------------  38.7/38.8 MB 22.6 MB/s eta 0:00:01\n",
      "   ---------------------------------------  38.7/38.8 MB 22.6 MB/s eta 0:00:01\n",
      "   ---------------------------------------  38.7/38.8 MB 22.6 MB/s eta 0:00:01\n",
      "   ---------------------------------------  38.7/38.8 MB 22.6 MB/s eta 0:00:01\n",
      "   ---------------------------------------  38.7/38.8 MB 22.6 MB/s eta 0:00:01\n",
      "   ---------------------------------------- 38.8/38.8 MB 14.9 MB/s eta 0:00:00\n",
      "Using cached filetype-1.2.0-py2.py3-none-any.whl (19 kB)\n",
      "Using cached python_dotenv-1.0.1-py3-none-any.whl (19 kB)\n",
      "Using cached requests_toolbelt-1.0.0-py2.py3-none-any.whl (54 kB)\n",
      "Installing collected packages: filetype, python-dotenv, opencv-python-headless, chardet, requests-toolbelt, roboflow\n",
      "  Attempting uninstall: opencv-python-headless\n",
      "    Found existing installation: opencv-python-headless 4.10.0.82\n",
      "    Uninstalling opencv-python-headless-4.10.0.82:\n",
      "      Successfully uninstalled opencv-python-headless-4.10.0.82\n",
      "Successfully installed chardet-4.0.0 filetype-1.2.0 opencv-python-headless-4.10.0.84 python-dotenv-1.0.1 requests-toolbelt-1.0.0 roboflow-1.1.36\n"
     ]
    }
   ],
   "source": [
    "%pip install roboflow\n"
   ]
  },
  {
   "cell_type": "code",
   "execution_count": 7,
   "metadata": {},
   "outputs": [
    {
     "name": "stdout",
     "output_type": "stream",
     "text": [
      "loading Roboflow workspace...\n",
      "loading Roboflow project...\n"
     ]
    },
    {
     "name": "stderr",
     "output_type": "stream",
     "text": [
      "Downloading Dataset Version Zip in Grocery_Items-28 to yolov7pytorch:: 100%|██████████| 1863621/1863621 [02:53<00:00, 10724.22it/s]"
     ]
    },
    {
     "name": "stdout",
     "output_type": "stream",
     "text": [
      "\n"
     ]
    },
    {
     "name": "stderr",
     "output_type": "stream",
     "text": [
      "\n",
      "Extracting Dataset Version Zip to Grocery_Items-28 in yolov7pytorch:: 100%|██████████| 10036/10036 [00:37<00:00, 268.26it/s]\n"
     ]
    }
   ],
   "source": [
    "from roboflow import Roboflow\n",
    "rf = Roboflow(api_key=\"V06YujhI5Q4CjhICNdTR\")\n",
    "project = rf.workspace(\"iit-patna-qg1jh\").project(\"grocery_items-7i2em\")\n",
    "version = project.version(28)\n",
    "dataset = version.download(\"yolov7\")\n",
    "\n"
   ]
  },
  {
   "cell_type": "code",
   "execution_count": 6,
   "metadata": {},
   "outputs": [],
   "source": [
    "# !pip install -r \"C:\\Users\\Anuj Bohra\\Desktop\\IIT_Patna\\code\\YOLO\\yolov7\\requirements.txt\""
   ]
  },
  {
   "cell_type": "code",
   "execution_count": 7,
   "metadata": {},
   "outputs": [
    {
     "name": "stderr",
     "output_type": "stream",
     "text": [
      "  % Total    % Received % Xferd  Average Speed   Time    Time     Time  Current\n",
      "                                 Dload  Upload   Total   Spent    Left  Speed\n",
      "\n",
      "  0     0    0     0    0     0      0      0 --:--:-- --:--:-- --:--:--     0\n",
      "  0     0    0     0    0     0      0      0 --:--:-- --:--:-- --:--:--     0\n",
      "  0     0    0     0    0     0      0      0 --:--:-- --:--:-- --:--:--     0\n",
      "\n",
      "  0 72.0M    0 21896    0     0  11270      0  1:51:46  0:00:01  1:51:45 11270\n",
      "  4 72.0M    4 3120k    0     0  1427k      0  0:00:51  0:00:02  0:00:49 12.4M\n",
      " 38 72.0M   38 27.5M    0     0  8844k      0  0:00:08  0:00:03  0:00:05 22.0M\n",
      " 74 72.0M   74 54.0M    0     0  12.9M      0  0:00:05  0:00:04  0:00:01 24.1M\n",
      "100 72.0M  100 72.0M    0     0  14.4M      0  0:00:04  0:00:04 --:--:-- 23.7M\n"
     ]
    }
   ],
   "source": [
    "# Example: Download yolov7 pre-trained weights\n",
    "!curl -L -o yolov7.pt https://github.com/WongKinYiu/yolov7/releases/download/v0.1/yolov7.pt\n"
   ]
  },
  {
   "cell_type": "code",
   "execution_count": null,
   "metadata": {},
   "outputs": [],
   "source": []
  },
  {
   "cell_type": "code",
   "execution_count": 5,
   "metadata": {},
   "outputs": [
    {
     "name": "stdout",
     "output_type": "stream",
     "text": [
      " Volume in drive C is Windows\n",
      " Volume Serial Number is EC92-3AED\n",
      "\n",
      " Directory of C:\\Users\\Anuj Bohra\\Desktop\\IIT_Patna\\code\\yolov7\n",
      "\n",
      "21-07-2024  23:12    <DIR>          .\n",
      "21-07-2024  23:09    <DIR>          ..\n",
      "18-07-2024  13:51             4,325 .gitignore\n",
      "18-07-2024  13:51    <DIR>          cfg\n",
      "18-07-2024  13:51    <DIR>          data\n",
      "18-07-2024  13:51    <DIR>          deploy\n",
      "18-07-2024  13:51             9,523 detect.py\n",
      "18-07-2024  13:51             9,367 export.py\n",
      "18-07-2024  13:51    <DIR>          figure\n",
      "21-07-2024  23:15    <DIR>          Grocery_Items-27\n",
      "18-07-2024  13:51             3,680 hubconf.py\n",
      "18-07-2024  13:51    <DIR>          inference\n",
      "18-07-2024  13:51            35,823 LICENSE.md\n",
      "18-07-2024  14:05    <DIR>          models\n",
      "18-07-2024  13:51    <DIR>          paper\n",
      "18-07-2024  13:51            15,056 README.md\n",
      "18-07-2024  13:51               997 requirements.txt\n",
      "18-07-2024  14:05    <DIR>          runs\n",
      "18-07-2024  13:51    <DIR>          scripts\n",
      "18-07-2024  13:51            17,634 test.py\n",
      "18-07-2024  13:51    <DIR>          tools\n",
      "18-07-2024  13:51            38,738 train.py\n",
      "18-07-2024  13:51            38,134 train_aux.py\n",
      "18-07-2024  14:05    <DIR>          utils\n",
      "19-07-2024  10:33    <DIR>          wandb\n",
      "18-07-2024  14:04        75,587,165 yolov7.pt\n",
      "18-07-2024  14:05    <DIR>          __pycache__\n",
      "              11 File(s)     75,760,442 bytes\n",
      "              16 Dir(s)  159,587,434,496 bytes free\n"
     ]
    }
   ],
   "source": [
    "!dir"
   ]
  },
  {
   "cell_type": "code",
   "execution_count": 6,
   "metadata": {},
   "outputs": [
    {
     "name": "stdout",
     "output_type": "stream",
     "text": [
      "\n",
      "WARNING: Dataset not found, nonexistent paths: ['C:\\\\Users\\\\Anuj Bohra\\\\Desktop\\\\IIT_Patna\\\\code\\\\yolov7\\\\Grocery_Items-27\\\\valid\\\\images']\n"
     ]
    },
    {
     "name": "stderr",
     "output_type": "stream",
     "text": [
      "YOLOR  2024-7-18 torch 2.3.1+cpu CPU\n",
      "\n",
      "Namespace(weights='yolov7.pt', cfg='cfg/training/yolov7.yaml', data='C:\\\\Users\\\\Anuj Bohra\\\\Desktop\\\\IIT_Patna\\\\code\\\\yolov7\\\\Grocery_Items-27\\\\data.yaml', hyp='data/hyp.scratch.p5.yaml', epochs=1, batch_size=2, img_size=[640, 640], rect=False, resume=False, nosave=False, notest=False, noautoanchor=False, evolve=False, bucket='', cache_images=False, image_weights=False, device='', multi_scale=False, single_cls=False, adam=False, sync_bn=False, local_rank=-1, workers=8, project='runs/train', entity=None, name='exp', exist_ok=False, quad=False, linear_lr=False, label_smoothing=0.0, upload_dataset=False, bbox_interval=-1, save_period=-1, artifact_alias='latest', freeze=[0], v5_metric=False, world_size=1, global_rank=-1, save_dir='runs\\\\train\\\\exp2', total_batch_size=2)\n",
      "\u001b[34m\u001b[1mtensorboard: \u001b[0mStart with 'tensorboard --logdir runs/train', view at http://localhost:6006/\n",
      "\u001b[34m\u001b[1mhyperparameters: \u001b[0mlr0=0.01, lrf=0.1, momentum=0.937, weight_decay=0.0005, warmup_epochs=3.0, warmup_momentum=0.8, warmup_bias_lr=0.1, box=0.05, cls=0.3, cls_pw=1.0, obj=0.7, obj_pw=1.0, iou_t=0.2, anchor_t=4.0, fl_gamma=0.0, hsv_h=0.015, hsv_s=0.7, hsv_v=0.4, degrees=0.0, translate=0.2, scale=0.9, shear=0.0, perspective=0.0, flipud=0.0, fliplr=0.5, mosaic=1.0, mixup=0.15, copy_paste=0.0, paste_in=0.15, loss_ota=1\n",
      "wandb: Currently logged in as: anujbohra10 (anujbohra10-dwarkadas-j-sanghvi-college-of-engineering). Use `wandb login --relogin` to force relogin\n",
      "wandb: - Waiting for wandb.init()...\n",
      "wandb: \\ Waiting for wandb.init()...\n",
      "wandb: wandb version 0.17.5 is available!  To upgrade, please run:\n",
      "wandb:  $ pip install wandb --upgrade\n",
      "wandb: Tracking run with wandb version 0.17.4\n",
      "wandb: Run data is saved locally in C:\\Users\\Anuj Bohra\\Desktop\\IIT_Patna\\code\\yolov7\\wandb\\run-20240721_231806-qw35jixp\n",
      "wandb: Run `wandb offline` to turn off syncing.\n",
      "wandb: Syncing run exp2\n",
      "wandb:  View project at https://wandb.ai/anujbohra10-dwarkadas-j-sanghvi-college-of-engineering/YOLOR\n",
      "wandb:  View run at https://wandb.ai/anujbohra10-dwarkadas-j-sanghvi-college-of-engineering/YOLOR/runs/qw35jixp\n",
      "Overriding model.yaml nc=80 with nc=571\n",
      "\n",
      "                 from  n    params  module                                  arguments                     \n",
      "  0                -1  1       928  models.common.Conv                      [3, 32, 3, 1]                 \n",
      "  1                -1  1     18560  models.common.Conv                      [32, 64, 3, 2]                \n",
      "  2                -1  1     36992  models.common.Conv                      [64, 64, 3, 1]                \n",
      "  3                -1  1     73984  models.common.Conv                      [64, 128, 3, 2]               \n",
      "  4                -1  1      8320  models.common.Conv                      [128, 64, 1, 1]               \n",
      "  5                -2  1      8320  models.common.Conv                      [128, 64, 1, 1]               \n",
      "  6                -1  1     36992  models.common.Conv                      [64, 64, 3, 1]                \n",
      "  7                -1  1     36992  models.common.Conv                      [64, 64, 3, 1]                \n",
      "  8                -1  1     36992  models.common.Conv                      [64, 64, 3, 1]                \n",
      "  9                -1  1     36992  models.common.Conv                      [64, 64, 3, 1]                \n",
      " 10  [-1, -3, -5, -6]  1         0  models.common.Concat                    [1]                           \n",
      " 11                -1  1     66048  models.common.Conv                      [256, 256, 1, 1]              \n",
      " 12                -1  1         0  models.common.MP                        []                            \n",
      " 13                -1  1     33024  models.common.Conv                      [256, 128, 1, 1]              \n",
      " 14                -3  1     33024  models.common.Conv                      [256, 128, 1, 1]              \n",
      " 15                -1  1    147712  models.common.Conv                      [128, 128, 3, 2]              \n",
      " 16          [-1, -3]  1         0  models.common.Concat                    [1]                           \n",
      " 17                -1  1     33024  models.common.Conv                      [256, 128, 1, 1]              \n",
      " 18                -2  1     33024  models.common.Conv                      [256, 128, 1, 1]              \n",
      " 19                -1  1    147712  models.common.Conv                      [128, 128, 3, 1]              \n",
      " 20                -1  1    147712  models.common.Conv                      [128, 128, 3, 1]              \n",
      " 21                -1  1    147712  models.common.Conv                      [128, 128, 3, 1]              \n",
      " 22                -1  1    147712  models.common.Conv                      [128, 128, 3, 1]              \n",
      " 23  [-1, -3, -5, -6]  1         0  models.common.Concat                    [1]                           \n",
      " 24                -1  1    263168  models.common.Conv                      [512, 512, 1, 1]              \n",
      " 25                -1  1         0  models.common.MP                        []                            \n",
      " 26                -1  1    131584  models.common.Conv                      [512, 256, 1, 1]              \n",
      " 27                -3  1    131584  models.common.Conv                      [512, 256, 1, 1]              \n",
      " 28                -1  1    590336  models.common.Conv                      [256, 256, 3, 2]              \n",
      " 29          [-1, -3]  1         0  models.common.Concat                    [1]                           \n",
      " 30                -1  1    131584  models.common.Conv                      [512, 256, 1, 1]              \n",
      " 31                -2  1    131584  models.common.Conv                      [512, 256, 1, 1]              \n",
      " 32                -1  1    590336  models.common.Conv                      [256, 256, 3, 1]              \n",
      " 33                -1  1    590336  models.common.Conv                      [256, 256, 3, 1]              \n",
      " 34                -1  1    590336  models.common.Conv                      [256, 256, 3, 1]              \n",
      " 35                -1  1    590336  models.common.Conv                      [256, 256, 3, 1]              \n",
      " 36  [-1, -3, -5, -6]  1         0  models.common.Concat                    [1]                           \n",
      " 37                -1  1   1050624  models.common.Conv                      [1024, 1024, 1, 1]            \n",
      " 38                -1  1         0  models.common.MP                        []                            \n",
      " 39                -1  1    525312  models.common.Conv                      [1024, 512, 1, 1]             \n",
      " 40                -3  1    525312  models.common.Conv                      [1024, 512, 1, 1]             \n",
      " 41                -1  1   2360320  models.common.Conv                      [512, 512, 3, 2]              \n",
      " 42          [-1, -3]  1         0  models.common.Concat                    [1]                           \n",
      " 43                -1  1    262656  models.common.Conv                      [1024, 256, 1, 1]             \n",
      " 44                -2  1    262656  models.common.Conv                      [1024, 256, 1, 1]             \n",
      " 45                -1  1    590336  models.common.Conv                      [256, 256, 3, 1]              \n",
      " 46                -1  1    590336  models.common.Conv                      [256, 256, 3, 1]              \n",
      " 47                -1  1    590336  models.common.Conv                      [256, 256, 3, 1]              \n",
      " 48                -1  1    590336  models.common.Conv                      [256, 256, 3, 1]              \n",
      " 49  [-1, -3, -5, -6]  1         0  models.common.Concat                    [1]                           \n",
      " 50                -1  1   1050624  models.common.Conv                      [1024, 1024, 1, 1]            \n",
      " 51                -1  1   7609344  models.common.SPPCSPC                   [1024, 512, 1]                \n",
      " 52                -1  1    131584  models.common.Conv                      [512, 256, 1, 1]              \n",
      " 53                -1  1         0  torch.nn.modules.upsampling.Upsample    [None, 2, 'nearest']          \n",
      " 54                37  1    262656  models.common.Conv                      [1024, 256, 1, 1]             \n",
      " 55          [-1, -2]  1         0  models.common.Concat                    [1]                           \n",
      " 56                -1  1    131584  models.common.Conv                      [512, 256, 1, 1]              \n",
      " 57                -2  1    131584  models.common.Conv                      [512, 256, 1, 1]              \n",
      " 58                -1  1    295168  models.common.Conv                      [256, 128, 3, 1]              \n",
      " 59                -1  1    147712  models.common.Conv                      [128, 128, 3, 1]              \n",
      " 60                -1  1    147712  models.common.Conv                      [128, 128, 3, 1]              \n",
      " 61                -1  1    147712  models.common.Conv                      [128, 128, 3, 1]              \n",
      " 62[-1, -2, -3, -4, -5, -6]  1         0  models.common.Concat                    [1]                           \n",
      " 63                -1  1    262656  models.common.Conv                      [1024, 256, 1, 1]             \n",
      " 64                -1  1     33024  models.common.Conv                      [256, 128, 1, 1]              \n",
      " 65                -1  1         0  torch.nn.modules.upsampling.Upsample    [None, 2, 'nearest']          \n",
      " 66                24  1     65792  models.common.Conv                      [512, 128, 1, 1]              \n",
      " 67          [-1, -2]  1         0  models.common.Concat                    [1]                           \n",
      " 68                -1  1     33024  models.common.Conv                      [256, 128, 1, 1]              \n",
      " 69                -2  1     33024  models.common.Conv                      [256, 128, 1, 1]              \n",
      " 70                -1  1     73856  models.common.Conv                      [128, 64, 3, 1]               \n",
      " 71                -1  1     36992  models.common.Conv                      [64, 64, 3, 1]                \n",
      " 72                -1  1     36992  models.common.Conv                      [64, 64, 3, 1]                \n",
      " 73                -1  1     36992  models.common.Conv                      [64, 64, 3, 1]                \n",
      " 74[-1, -2, -3, -4, -5, -6]  1         0  models.common.Concat                    [1]                           \n",
      " 75                -1  1     65792  models.common.Conv                      [512, 128, 1, 1]              \n",
      " 76                -1  1         0  models.common.MP                        []                            \n",
      " 77                -1  1     16640  models.common.Conv                      [128, 128, 1, 1]              \n",
      " 78                -3  1     16640  models.common.Conv                      [128, 128, 1, 1]              \n",
      " 79                -1  1    147712  models.common.Conv                      [128, 128, 3, 2]              \n",
      " 80      [-1, -3, 63]  1         0  models.common.Concat                    [1]                           \n",
      " 81                -1  1    131584  models.common.Conv                      [512, 256, 1, 1]              \n",
      " 82                -2  1    131584  models.common.Conv                      [512, 256, 1, 1]              \n",
      " 83                -1  1    295168  models.common.Conv                      [256, 128, 3, 1]              \n",
      " 84                -1  1    147712  models.common.Conv                      [128, 128, 3, 1]              \n",
      " 85                -1  1    147712  models.common.Conv                      [128, 128, 3, 1]              \n",
      " 86                -1  1    147712  models.common.Conv                      [128, 128, 3, 1]              \n",
      " 87[-1, -2, -3, -4, -5, -6]  1         0  models.common.Concat                    [1]                           \n",
      " 88                -1  1    262656  models.common.Conv                      [1024, 256, 1, 1]             \n",
      " 89                -1  1         0  models.common.MP                        []                            \n",
      " 90                -1  1     66048  models.common.Conv                      [256, 256, 1, 1]              \n",
      " 91                -3  1     66048  models.common.Conv                      [256, 256, 1, 1]              \n",
      " 92                -1  1    590336  models.common.Conv                      [256, 256, 3, 2]              \n",
      " 93      [-1, -3, 51]  1         0  models.common.Concat                    [1]                           \n",
      " 94                -1  1    525312  models.common.Conv                      [1024, 512, 1, 1]             \n",
      " 95                -2  1    525312  models.common.Conv                      [1024, 512, 1, 1]             \n",
      " 96                -1  1   1180160  models.common.Conv                      [512, 256, 3, 1]              \n",
      " 97                -1  1    590336  models.common.Conv                      [256, 256, 3, 1]              \n",
      " 98                -1  1    590336  models.common.Conv                      [256, 256, 3, 1]              \n",
      " 99                -1  1    590336  models.common.Conv                      [256, 256, 3, 1]              \n",
      "100[-1, -2, -3, -4, -5, -6]  1         0  models.common.Concat                    [1]                           \n",
      "101                -1  1   1049600  models.common.Conv                      [2048, 512, 1, 1]             \n",
      "102                75  1    328704  models.common.RepConv                   [128, 256, 3, 1]              \n",
      "103                88  1   1312768  models.common.RepConv                   [256, 512, 3, 1]              \n",
      "104               101  1   5246976  models.common.RepConv                   [512, 1024, 3, 1]             \n",
      "105   [102, 103, 104]  1   3108736  models.yolo.IDetect                     [571, [[12, 16, 19, 36, 40, 28], [36, 75, 76, 55, 72, 146], [142, 110, 192, 243, 459, 401]], [256, 512, 1024]]\n",
      "c:\\Users\\Anuj Bohra\\anaconda3\\envs\\cv_env\\lib\\site-packages\\torch\\functional.py:512: UserWarning: torch.meshgrid: in an upcoming release, it will be required to pass the indexing argument. (Triggered internally at ..\\aten\\src\\ATen\\native\\TensorShape.cpp:3588.)\n",
      "  return _VF.meshgrid(tensors, **kwargs)  # type: ignore[attr-defined]\n",
      "Model Summary: 415 layers, 40271136 parameters, 40271136 gradients, 114.9 GFLOPS\n",
      "\n",
      "Transferred 552/566 items from yolov7.pt\n",
      "Traceback (most recent call last):\n",
      "  File \"C:\\Users\\Anuj Bohra\\Desktop\\IIT_Patna\\code\\yolov7\\train.py\", line 616, in <module>\n",
      "    train(hyp, opt, device, tb_writer)\n",
      "  File \"C:\\Users\\Anuj Bohra\\Desktop\\IIT_Patna\\code\\yolov7\\train.py\", line 97, in train\n",
      "    check_dataset(data_dict)  # check\n",
      "  File \"C:\\Users\\Anuj Bohra\\Desktop\\IIT_Patna\\code\\yolov7\\utils\\general.py\", line 173, in check_dataset\n",
      "    raise Exception('Dataset not found.')\n",
      "Exception: Dataset not found.\n",
      "wandb: - 0.002 MB of 0.002 MB uploaded\n",
      "wandb: \\ 0.002 MB of 0.002 MB uploaded\n",
      "wandb: | 0.002 MB of 0.002 MB uploaded\n",
      "wandb: / 0.002 MB of 0.002 MB uploaded\n",
      "wandb: - 0.002 MB of 0.002 MB uploaded\n",
      "wandb: \\ 0.002 MB of 0.002 MB uploaded\n",
      "wandb: | 0.002 MB of 0.002 MB uploaded\n",
      "wandb: / 0.025 MB of 0.054 MB uploaded\n",
      "wandb: - 0.054 MB of 0.054 MB uploaded\n",
      "wandb:  View run exp2 at: https://wandb.ai/anujbohra10-dwarkadas-j-sanghvi-college-of-engineering/YOLOR/runs/qw35jixp\n",
      "wandb:  View project at: https://wandb.ai/anujbohra10-dwarkadas-j-sanghvi-college-of-engineering/YOLOR\n",
      "wandb: Synced 6 W&B file(s), 0 media file(s), 2 artifact file(s) and 0 other file(s)\n",
      "wandb: Find logs at: .\\wandb\\run-20240721_231806-qw35jixp\\logs\n",
      "wandb: WARNING The new W&B backend becomes opt-out in version 0.18.0; try it out with `wandb.require(\"core\")`! See https://wandb.me/wandb-core for more information.\n",
      "Exception in thread ChkStopThr:\n",
      "Traceback (most recent call last):\n",
      "  File \"c:\\Users\\Anuj Bohra\\anaconda3\\envs\\cv_env\\lib\\threading.py\", line 1016, in _bootstrap_inner\n",
      "    self.run()\n",
      "  File \"c:\\Users\\Anuj Bohra\\anaconda3\\envs\\cv_env\\lib\\threading.py\", line 953, in run\n",
      "    self._target(*self._args, **self._kwargs)\n",
      "  File \"c:\\Users\\Anuj Bohra\\anaconda3\\envs\\cv_env\\lib\\site-packages\\wandb\\sdk\\wandb_run.py\", line 302, in check_stop_status\n",
      "    self._loop_check_status(\n",
      "  File \"c:\\Users\\Anuj Bohra\\anaconda3\\envs\\cv_env\\lib\\site-packages\\wandb\\sdk\\wandb_run.py\", line 233, in _loop_check_status\n",
      "    local_handle = request()\n",
      "  File \"c:\\Users\\Anuj Bohra\\anaconda3\\envs\\cv_env\\lib\\site-packages\\wandb\\sdk\\interface\\interface.py\", line 876, in deliver_stop_status\n",
      "    return self._deliver_stop_status(status)\n",
      "  File \"c:\\Users\\Anuj Bohra\\anaconda3\\envs\\cv_env\\lib\\site-packages\\wandb\\sdk\\interface\\interface_shared.py\", line 488, in _deliver_stop_status\n",
      "    return self._deliver_record(record)\n",
      "  File \"c:\\Users\\Anuj Bohra\\anaconda3\\envs\\cv_env\\lib\\site-packages\\wandb\\sdk\\interface\\interface_shared.py\", line 453, in _deliver_record\n",
      "    handle = mailbox._deliver_record(record, interface=self)\n",
      "  File \"c:\\Users\\Anuj Bohra\\anaconda3\\envs\\cv_env\\lib\\site-packages\\wandb\\sdk\\lib\\mailbox.py\", line 455, in _deliver_record\n",
      "    interface._publish(record)\n",
      "  File \"c:\\Users\\Anuj Bohra\\anaconda3\\envs\\cv_env\\lib\\site-packages\\wandb\\sdk\\interface\\interface_sock.py\", line 51, in _publish\n",
      "    self._sock_client.send_record_publish(record)\n",
      "  File \"c:\\Users\\Anuj Bohra\\anaconda3\\envs\\cv_env\\lib\\site-packages\\wandb\\sdk\\lib\\sock_client.py\", line 221, in send_record_publish\n",
      "    self.send_server_request(server_req)\n",
      "  File \"c:\\Users\\Anuj Bohra\\anaconda3\\envs\\cv_env\\lib\\site-packages\\wandb\\sdk\\lib\\sock_client.py\", line 155, in send_server_request\n",
      "    self._send_message(msg)\n",
      "  File \"c:\\Users\\Anuj Bohra\\anaconda3\\envs\\cv_env\\lib\\site-packages\\wandb\\sdk\\lib\\sock_client.py\", line 152, in _send_message\n",
      "    self._sendall_with_error_handle(header + data)\n",
      "  File \"c:\\Users\\Anuj Bohra\\anaconda3\\envs\\cv_env\\lib\\site-packages\\wandb\\sdk\\lib\\sock_client.py\", line 130, in _sendall_with_error_handle\n",
      "    sent = self._sock.send(data)\n",
      "ConnectionResetError: [WinError 10054] An existing connection was forcibly closed by the remote host\n"
     ]
    }
   ],
   "source": [
    "!python train.py --weights yolov7.pt --cfg cfg/training/yolov7.yaml --data \"C:\\Users\\Anuj Bohra\\Desktop\\IIT_Patna\\code\\yolov7\\Grocery_Items-27\\data.yaml\" --epochs 1 --batch-size 2 --img-size 640 640\n"
   ]
  },
  {
   "cell_type": "code",
   "execution_count": 8,
   "metadata": {},
   "outputs": [
    {
     "name": "stdout",
     "output_type": "stream",
     "text": [
      "^C\n"
     ]
    }
   ],
   "source": [
    "!python train.py --img 640 --batch 2 --epochs 1 --data \"C:\\Users\\Anuj Bohra\\Desktop\\IIT_Patna\\code\\yolov7\\Grocery_Items-28\\data.yaml\" --cfg cfg/training/yolov7.yaml --weights yolov7.pt --project runs/train --name my_experiment --device cpu\n"
   ]
  },
  {
   "cell_type": "code",
   "execution_count": 1,
   "metadata": {},
   "outputs": [
    {
     "name": "stderr",
     "output_type": "stream",
     "text": [
      "python: can't open file 'c:\\\\Users\\\\Anuj Bohra\\\\Desktop\\\\IIT_Patna\\\\code\\\\YOLO\\\\test.py': [Errno 2] No such file or directory\n"
     ]
    }
   ],
   "source": [
    "!python test.py --weights 'C:\\Users\\Anuj Bohra\\Desktop\\IIT_Patna\\code\\YOLO\\best.pt' --data \"C:\\Users\\Anuj Bohra\\Desktop\\IIT_Patna\\code\\YOLO\\yolov7\\GroceryItemsAnnotatedImages\\data.yaml\" --img-size 640 --batch-size 16 --conf-thres 0.001 --iou-thres 0.6 --task test\n"
   ]
  },
  {
   "cell_type": "code",
   "execution_count": null,
   "metadata": {},
   "outputs": [],
   "source": []
  }
 ],
 "metadata": {
  "kernelspec": {
   "display_name": "cv_env",
   "language": "python",
   "name": "python3"
  },
  "language_info": {
   "codemirror_mode": {
    "name": "ipython",
    "version": 3
   },
   "file_extension": ".py",
   "mimetype": "text/x-python",
   "name": "python",
   "nbconvert_exporter": "python",
   "pygments_lexer": "ipython3",
   "version": "3.10.14"
  }
 },
 "nbformat": 4,
 "nbformat_minor": 2
}
